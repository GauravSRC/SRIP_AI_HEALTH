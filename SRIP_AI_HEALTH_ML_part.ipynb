{
  "nbformat": 4,
  "nbformat_minor": 0,
  "metadata": {
    "colab": {
      "provenance": [],
      "gpuType": "T4"
    },
    "kernelspec": {
      "name": "python3",
      "display_name": "Python 3"
    },
    "language_info": {
      "name": "python"
    },
    "accelerator": "GPU"
  },
  "cells": [
    {
      "cell_type": "code",
      "execution_count": 1,
      "metadata": {
        "colab": {
          "base_uri": "https://localhost:8080/"
        },
        "id": "UBL4kT35ZuxT",
        "outputId": "e8919e5d-9b9e-41e9-e001-9cfbf36b0405"
      },
      "outputs": [
        {
          "output_type": "stream",
          "name": "stdout",
          "text": [
            "Collecting tsfel\n",
            "  Downloading tsfel-0.1.9-py3-none-any.whl.metadata (9.3 kB)\n",
            "Requirement already satisfied: scikit-learn in /usr/local/lib/python3.11/dist-packages (1.6.1)\n",
            "Requirement already satisfied: tqdm in /usr/local/lib/python3.11/dist-packages (4.67.1)\n",
            "Requirement already satisfied: ipython>=7.4.0 in /usr/local/lib/python3.11/dist-packages (from tsfel) (7.34.0)\n",
            "Requirement already satisfied: numpy>=1.18.5 in /usr/local/lib/python3.11/dist-packages (from tsfel) (1.26.4)\n",
            "Requirement already satisfied: pandas>=1.5.3 in /usr/local/lib/python3.11/dist-packages (from tsfel) (2.2.2)\n",
            "Collecting PyWavelets>=1.4.1 (from tsfel)\n",
            "  Downloading pywavelets-1.8.0-cp311-cp311-manylinux_2_17_x86_64.manylinux2014_x86_64.whl.metadata (9.0 kB)\n",
            "Requirement already satisfied: requests>=2.31.0 in /usr/local/lib/python3.11/dist-packages (from tsfel) (2.32.3)\n",
            "Requirement already satisfied: scipy>=1.7.3 in /usr/local/lib/python3.11/dist-packages (from tsfel) (1.13.1)\n",
            "Requirement already satisfied: setuptools>=47.1.1 in /usr/local/lib/python3.11/dist-packages (from tsfel) (75.1.0)\n",
            "Requirement already satisfied: statsmodels>=0.12.0 in /usr/local/lib/python3.11/dist-packages (from tsfel) (0.14.4)\n",
            "Requirement already satisfied: joblib>=1.2.0 in /usr/local/lib/python3.11/dist-packages (from scikit-learn) (1.4.2)\n",
            "Requirement already satisfied: threadpoolctl>=3.1.0 in /usr/local/lib/python3.11/dist-packages (from scikit-learn) (3.5.0)\n",
            "Collecting jedi>=0.16 (from ipython>=7.4.0->tsfel)\n",
            "  Downloading jedi-0.19.2-py2.py3-none-any.whl.metadata (22 kB)\n",
            "Requirement already satisfied: decorator in /usr/local/lib/python3.11/dist-packages (from ipython>=7.4.0->tsfel) (4.4.2)\n",
            "Requirement already satisfied: pickleshare in /usr/local/lib/python3.11/dist-packages (from ipython>=7.4.0->tsfel) (0.7.5)\n",
            "Requirement already satisfied: traitlets>=4.2 in /usr/local/lib/python3.11/dist-packages (from ipython>=7.4.0->tsfel) (5.7.1)\n",
            "Requirement already satisfied: prompt-toolkit!=3.0.0,!=3.0.1,<3.1.0,>=2.0.0 in /usr/local/lib/python3.11/dist-packages (from ipython>=7.4.0->tsfel) (3.0.50)\n",
            "Requirement already satisfied: pygments in /usr/local/lib/python3.11/dist-packages (from ipython>=7.4.0->tsfel) (2.18.0)\n",
            "Requirement already satisfied: backcall in /usr/local/lib/python3.11/dist-packages (from ipython>=7.4.0->tsfel) (0.2.0)\n",
            "Requirement already satisfied: matplotlib-inline in /usr/local/lib/python3.11/dist-packages (from ipython>=7.4.0->tsfel) (0.1.7)\n",
            "Requirement already satisfied: pexpect>4.3 in /usr/local/lib/python3.11/dist-packages (from ipython>=7.4.0->tsfel) (4.9.0)\n",
            "Requirement already satisfied: python-dateutil>=2.8.2 in /usr/local/lib/python3.11/dist-packages (from pandas>=1.5.3->tsfel) (2.8.2)\n",
            "Requirement already satisfied: pytz>=2020.1 in /usr/local/lib/python3.11/dist-packages (from pandas>=1.5.3->tsfel) (2025.1)\n",
            "Requirement already satisfied: tzdata>=2022.7 in /usr/local/lib/python3.11/dist-packages (from pandas>=1.5.3->tsfel) (2025.1)\n",
            "Requirement already satisfied: charset-normalizer<4,>=2 in /usr/local/lib/python3.11/dist-packages (from requests>=2.31.0->tsfel) (3.4.1)\n",
            "Requirement already satisfied: idna<4,>=2.5 in /usr/local/lib/python3.11/dist-packages (from requests>=2.31.0->tsfel) (3.10)\n",
            "Requirement already satisfied: urllib3<3,>=1.21.1 in /usr/local/lib/python3.11/dist-packages (from requests>=2.31.0->tsfel) (2.3.0)\n",
            "Requirement already satisfied: certifi>=2017.4.17 in /usr/local/lib/python3.11/dist-packages (from requests>=2.31.0->tsfel) (2025.1.31)\n",
            "Requirement already satisfied: patsy>=0.5.6 in /usr/local/lib/python3.11/dist-packages (from statsmodels>=0.12.0->tsfel) (1.0.1)\n",
            "Requirement already satisfied: packaging>=21.3 in /usr/local/lib/python3.11/dist-packages (from statsmodels>=0.12.0->tsfel) (24.2)\n",
            "Requirement already satisfied: parso<0.9.0,>=0.8.4 in /usr/local/lib/python3.11/dist-packages (from jedi>=0.16->ipython>=7.4.0->tsfel) (0.8.4)\n",
            "Requirement already satisfied: ptyprocess>=0.5 in /usr/local/lib/python3.11/dist-packages (from pexpect>4.3->ipython>=7.4.0->tsfel) (0.7.0)\n",
            "Requirement already satisfied: wcwidth in /usr/local/lib/python3.11/dist-packages (from prompt-toolkit!=3.0.0,!=3.0.1,<3.1.0,>=2.0.0->ipython>=7.4.0->tsfel) (0.2.13)\n",
            "Requirement already satisfied: six>=1.5 in /usr/local/lib/python3.11/dist-packages (from python-dateutil>=2.8.2->pandas>=1.5.3->tsfel) (1.17.0)\n",
            "Downloading tsfel-0.1.9-py3-none-any.whl (62 kB)\n",
            "\u001b[2K   \u001b[90m━━━━━━━━━━━━━━━━━━━━━━━━━━━━━━━━━━━━━━━━\u001b[0m \u001b[32m63.0/63.0 kB\u001b[0m \u001b[31m3.4 MB/s\u001b[0m eta \u001b[36m0:00:00\u001b[0m\n",
            "\u001b[?25hDownloading pywavelets-1.8.0-cp311-cp311-manylinux_2_17_x86_64.manylinux2014_x86_64.whl (4.5 MB)\n",
            "\u001b[2K   \u001b[90m━━━━━━━━━━━━━━━━━━━━━━━━━━━━━━━━━━━━━━━━\u001b[0m \u001b[32m4.5/4.5 MB\u001b[0m \u001b[31m64.0 MB/s\u001b[0m eta \u001b[36m0:00:00\u001b[0m\n",
            "\u001b[?25hDownloading jedi-0.19.2-py2.py3-none-any.whl (1.6 MB)\n",
            "\u001b[2K   \u001b[90m━━━━━━━━━━━━━━━━━━━━━━━━━━━━━━━━━━━━━━━━\u001b[0m \u001b[32m1.6/1.6 MB\u001b[0m \u001b[31m75.3 MB/s\u001b[0m eta \u001b[36m0:00:00\u001b[0m\n",
            "\u001b[?25hInstalling collected packages: PyWavelets, jedi, tsfel\n",
            "Successfully installed PyWavelets-1.8.0 jedi-0.19.2 tsfel-0.1.9\n"
          ]
        }
      ],
      "source": [
        "!pip install tsfel scikit-learn tqdm\n"
      ]
    },
    {
      "cell_type": "code",
      "source": [
        "#Import Libraries\n",
        "import os\n",
        "import numpy as np\n",
        "import pandas as pd\n",
        "import tsfel\n",
        "from tqdm import tqdm\n",
        "from sklearn.ensemble import RandomForestClassifier\n",
        "from sklearn.svm import SVC\n",
        "from sklearn.linear_model import LogisticRegression\n",
        "from sklearn.metrics import accuracy_score, classification_report\n",
        "from sklearn.pipeline import Pipeline\n",
        "from sklearn.preprocessing import StandardScaler\n",
        "import matplotlib.pyplot as plt\n",
        "import seaborn as sns\n",
        "from sklearn.metrics import confusion_matrix"
      ],
      "metadata": {
        "id": "7JkGUYqciEO_"
      },
      "execution_count": 2,
      "outputs": []
    },
    {
      "cell_type": "code",
      "source": [
        "# defining functions to load the raw inertial signals and labels\n",
        "''' loading the nine inertial signal files (accelerometer and gyroscope data).\n",
        "    Each signal is reshaped to (samples, 128, 1)\n",
        "    and concatenated to form a (samples, 128, 9) array.'''\n",
        "def load_signals(folder, dataset='train'):\n",
        "    signals = []\n",
        "    signal_files = [\n",
        "        f\"total_acc_x_{dataset}.txt\", f\"total_acc_y_{dataset}.txt\", f\"total_acc_z_{dataset}.txt\",\n",
        "        f\"body_acc_x_{dataset}.txt\", f\"body_acc_y_{dataset}.txt\", f\"body_acc_z_{dataset}.txt\",\n",
        "        f\"body_gyro_x_{dataset}.txt\", f\"body_gyro_y_{dataset}.txt\", f\"body_gyro_z_{dataset}.txt\"\n",
        "    ]\n",
        "    for file in signal_files:\n",
        "        filepath = os.path.join(folder, \"Inertial Signals\", file)\n",
        "        # Each file contains rows corresponding to a sample; each row has 128 readings\n",
        "        signal = np.loadtxt(filepath).reshape(-1, 128, 1)\n",
        "        signals.append(signal)\n",
        "    # Concatenate along the last axis to form (samples, 128, 9)\n",
        "    return np.concatenate(signals, axis=-1)\n",
        "\"\"\"\n",
        "below function loads the activity labels from a text file and returns them as a numpy array.\n",
        "\"\"\"\n",
        "def load_labels(filepath):\n",
        "    return np.loadtxt(filepath, dtype=int)"
      ],
      "metadata": {
        "id": "cue4gJUCiPpm"
      },
      "execution_count": 3,
      "outputs": []
    },
    {
      "cell_type": "code",
      "source": [
        "import zipfile\n",
        "import os\n",
        "zip_path = \"/content/UCI_HAR_Dataset[1].zip\"\n",
        "extract_path = \"/content/data\"\n",
        "os.makedirs(extract_path, exist_ok=True)\n",
        "with zipfile.ZipFile(zip_path, 'r') as zip_ref:\n",
        "    zip_ref.extractall(extract_path)\n",
        "print(\"Unzipping completed and  files are extracted to:\", extract_path)\n"
      ],
      "metadata": {
        "colab": {
          "base_uri": "https://localhost:8080/"
        },
        "id": "GSQAebtYiiL8",
        "outputId": "d17534d4-3754-454d-bd5b-c17bb0e3c583"
      },
      "execution_count": 4,
      "outputs": [
        {
          "output_type": "stream",
          "name": "stdout",
          "text": [
            "Unzipping completed and  files are extracted to: /content/data\n"
          ]
        }
      ]
    },
    {
      "cell_type": "code",
      "source": [
        "# Defining dataset paths.\n",
        "train_folder = \"/content/data/UCI HAR Dataset/train\"\n",
        "test_folder = \"/content/data/UCI HAR Dataset/test\"\n",
        "# Loading raw inertial signals for train and test datasets\n",
        "train_signals = load_signals(train_folder, dataset='train')\n",
        "test_signals = load_signals(test_folder, dataset='test')\n",
        "# Loading corresponding labels\n",
        "train_labels = load_labels(os.path.join(train_folder, \"y_train.txt\"))\n",
        "test_labels = load_labels(os.path.join(test_folder, \"y_test.txt\"))"
      ],
      "metadata": {
        "id": "g540c8_1iUHB"
      },
      "execution_count": 5,
      "outputs": []
    },
    {
      "cell_type": "code",
      "source": [
        "# now using TSFEL to generate features from the inertial signals\n",
        "# getting the default configuration (this configuration extracts features from time series data)\n",
        "cfg = tsfel.get_features_by_domain()\n",
        "\"\"\"\n",
        "    below function extracts TSFEL features for each sample in signals_array.\n",
        "    Each sample is a (128, 9) array. I converted it to a DataFrame (9 columns)\n",
        "    and extracted features for each sample using TSFEL which then\n",
        "    returns a numpy array where each row is the feature vector for one sample.\n",
        "\"\"\"\n",
        "def extract_tsfel_features(signals_array):\n",
        "\n",
        "    features_list = []\n",
        "    for sample in tqdm(signals_array, desc=\"Extracting TSFEL features\"):\n",
        "        # Create a DataFrame with each channel as a column (names can be arbitrary)\n",
        "        df_sample = pd.DataFrame(sample, columns=[f\"ch{i}\" for i in range(sample.shape[1])])\n",
        "        # tsfel returns a DataFrame with one row of features\n",
        "        feats = tsfel.time_series_features_extractor(cfg, df_sample, fs=50, verbose=0)\n",
        "        features_list.append(feats.values.flatten())\n",
        "    return np.array(features_list)\n",
        "\n",
        "# Generate TSFEL features for training and testing data\n",
        "X_train_tsfel = extract_tsfel_features(train_signals)\n",
        "X_test_tsfel = extract_tsfel_features(test_signals)"
      ],
      "metadata": {
        "colab": {
          "base_uri": "https://localhost:8080/"
        },
        "id": "yB8nVDZijbwm",
        "outputId": "19a5fed5-0214-479a-c359-2a1722c73626"
      },
      "execution_count": 6,
      "outputs": [
        {
          "output_type": "stream",
          "name": "stderr",
          "text": [
            "Extracting TSFEL features: 100%|██████████| 7352/7352 [15:24<00:00,  7.95it/s]\n",
            "Extracting TSFEL features: 100%|██████████| 2947/2947 [06:03<00:00,  8.11it/s]\n"
          ]
        }
      ]
    },
    {
      "cell_type": "code",
      "source": [
        "# Loading the provided feature vectors (extracted by the authors)\n",
        "# These files (X_train.txt and X_test.txt) contain the 561 pre-computed features.\n",
        "X_train_provided = np.loadtxt(os.path.join(train_folder, \"X_train.txt\"))\n",
        "X_test_provided = np.loadtxt(os.path.join(test_folder, \"X_test.txt\"))"
      ],
      "metadata": {
        "id": "vQ9w3kYDirr_"
      },
      "execution_count": 7,
      "outputs": []
    },
    {
      "cell_type": "code",
      "source": [
        "#now defining a helper function to train and evaluate models with scaling.\n",
        "\"\"\"\n",
        "    below function trains three classifiers (Random Forest, SVM, Logistic Regression) which was\n",
        "     mentioned in the doc on the provided features\n",
        "    and evaluates them on the test set. Each classifier is wrapped in a pipeline with StandardScaler and it\n",
        "    returns a dictionary of accuracies.\n",
        "\"\"\"\n",
        "def evaluate_models(X_train, y_train, X_test, y_test):\n",
        "\n",
        "    models = {\n",
        "        \"Random Forest\": Pipeline([\n",
        "            ('scaler', StandardScaler()),\n",
        "            ('rf', RandomForestClassifier(\n",
        "                n_estimators=500,\n",
        "                max_depth=15,\n",
        "                min_samples_split=5,\n",
        "                min_samples_leaf=2,\n",
        "                class_weight='balanced',\n",
        "                random_state=42,\n",
        "                n_jobs=-1\n",
        "            ))\n",
        "        ]),\n",
        "        \"SVM\": Pipeline([\n",
        "            ('scaler', StandardScaler()),\n",
        "            ('svm', SVC(\n",
        "                kernel='rbf',\n",
        "                C=10,\n",
        "                gamma='auto',\n",
        "                class_weight='balanced',\n",
        "                random_state=42,\n",
        "                max_iter=10000\n",
        "            ))\n",
        "        ]),\n",
        "         \"Logistic Regression\": Pipeline([\n",
        "            ('scaler', StandardScaler()),\n",
        "            ('lr', LogisticRegression(max_iter=10000, random_state=42))\n",
        "        ])\n",
        "    }\n",
        "    results = {}\n",
        "    for name, model in models.items():\n",
        "        print(f\"Training {name} ...\")\n",
        "        model.fit(X_train, y_train)\n",
        "        preds = model.predict(X_test)\n",
        "        acc = accuracy_score(y_test, preds)\n",
        "        results[name] = acc\n",
        "        print(f\"--- {name} Accuracy: {acc:.4f} ---\")\n",
        "        print(classification_report(y_test, preds))\n",
        "        print(\"-\" * 40)\n",
        "    return results"
      ],
      "metadata": {
        "id": "VxrxPKz5-zko"
      },
      "execution_count": 10,
      "outputs": []
    },
    {
      "cell_type": "code",
      "source": [
        "# Training and evaluating models on TSFEL-generated features\n",
        "print(\"Evaluating using TSFEL Generated Features\")\n",
        "results_tsfel = evaluate_models(X_train_tsfel, train_labels, X_test_tsfel, test_labels)"
      ],
      "metadata": {
        "colab": {
          "base_uri": "https://localhost:8080/"
        },
        "id": "k62HRKWyi3-T",
        "outputId": "a624f84a-ac90-42ea-e4d8-4b09a51c905a"
      },
      "execution_count": 11,
      "outputs": [
        {
          "output_type": "stream",
          "name": "stdout",
          "text": [
            "Evaluating using TSFEL Generated Features\n",
            "Training Random Forest ...\n",
            "--- Random Forest Accuracy: 0.9308 ---\n",
            "              precision    recall  f1-score   support\n",
            "\n",
            "           1       0.93      0.99      0.96       496\n",
            "           2       0.89      0.95      0.92       471\n",
            "           3       0.96      0.83      0.89       420\n",
            "           4       0.89      0.90      0.90       491\n",
            "           5       0.91      0.90      0.90       532\n",
            "           6       1.00      1.00      1.00       537\n",
            "\n",
            "    accuracy                           0.93      2947\n",
            "   macro avg       0.93      0.93      0.93      2947\n",
            "weighted avg       0.93      0.93      0.93      2947\n",
            "\n",
            "----------------------------------------\n",
            "Training SVM ...\n",
            "--- SVM Accuracy: 0.9566 ---\n",
            "              precision    recall  f1-score   support\n",
            "\n",
            "           1       0.95      0.98      0.96       496\n",
            "           2       0.98      0.95      0.97       471\n",
            "           3       0.96      0.97      0.97       420\n",
            "           4       0.95      0.88      0.92       491\n",
            "           5       0.90      0.95      0.93       532\n",
            "           6       1.00      1.00      1.00       537\n",
            "\n",
            "    accuracy                           0.96      2947\n",
            "   macro avg       0.96      0.96      0.96      2947\n",
            "weighted avg       0.96      0.96      0.96      2947\n",
            "\n",
            "----------------------------------------\n",
            "Training Logistic Regression ...\n",
            "--- Logistic Regression Accuracy: 0.9562 ---\n",
            "              precision    recall  f1-score   support\n",
            "\n",
            "           1       0.95      1.00      0.97       496\n",
            "           2       0.99      0.95      0.97       471\n",
            "           3       0.99      0.97      0.98       420\n",
            "           4       0.94      0.87      0.90       491\n",
            "           5       0.90      0.95      0.93       532\n",
            "           6       0.98      1.00      0.99       537\n",
            "\n",
            "    accuracy                           0.96      2947\n",
            "   macro avg       0.96      0.96      0.96      2947\n",
            "weighted avg       0.96      0.96      0.96      2947\n",
            "\n",
            "----------------------------------------\n"
          ]
        }
      ]
    },
    {
      "cell_type": "code",
      "source": [
        "# Training and evaluating models on provided (author-extracted) features\n",
        "print(\"Evaluating using Provided Features\")\n",
        "results_provided = evaluate_models(X_train_provided, train_labels, X_test_provided, test_labels)"
      ],
      "metadata": {
        "colab": {
          "base_uri": "https://localhost:8080/"
        },
        "id": "rzaq9ByAi63W",
        "outputId": "8149d8e4-7906-437b-9c07-a99e1bc07365"
      },
      "execution_count": 12,
      "outputs": [
        {
          "output_type": "stream",
          "name": "stdout",
          "text": [
            "Evaluating using Provided Features\n",
            "Training Random Forest ...\n",
            "--- Random Forest Accuracy: 0.9287 ---\n",
            "              precision    recall  f1-score   support\n",
            "\n",
            "           1       0.89      0.97      0.93       496\n",
            "           2       0.90      0.91      0.90       471\n",
            "           3       0.96      0.84      0.90       420\n",
            "           4       0.93      0.89      0.91       491\n",
            "           5       0.90      0.94      0.92       532\n",
            "           6       1.00      1.00      1.00       537\n",
            "\n",
            "    accuracy                           0.93      2947\n",
            "   macro avg       0.93      0.93      0.93      2947\n",
            "weighted avg       0.93      0.93      0.93      2947\n",
            "\n",
            "----------------------------------------\n",
            "Training SVM ...\n",
            "--- SVM Accuracy: 0.9549 ---\n",
            "              precision    recall  f1-score   support\n",
            "\n",
            "           1       0.95      0.97      0.96       496\n",
            "           2       0.93      0.96      0.95       471\n",
            "           3       0.97      0.92      0.94       420\n",
            "           4       0.96      0.90      0.93       491\n",
            "           5       0.91      0.97      0.94       532\n",
            "           6       1.00      1.00      1.00       537\n",
            "\n",
            "    accuracy                           0.95      2947\n",
            "   macro avg       0.96      0.95      0.95      2947\n",
            "weighted avg       0.96      0.95      0.95      2947\n",
            "\n",
            "----------------------------------------\n",
            "Training Logistic Regression ...\n",
            "--- Logistic Regression Accuracy: 0.9549 ---\n",
            "              precision    recall  f1-score   support\n",
            "\n",
            "           1       0.94      0.99      0.97       496\n",
            "           2       0.96      0.95      0.95       471\n",
            "           3       0.99      0.94      0.96       420\n",
            "           4       0.97      0.88      0.92       491\n",
            "           5       0.89      0.97      0.93       532\n",
            "           6       1.00      0.99      1.00       537\n",
            "\n",
            "    accuracy                           0.95      2947\n",
            "   macro avg       0.96      0.95      0.95      2947\n",
            "weighted avg       0.96      0.95      0.95      2947\n",
            "\n",
            "----------------------------------------\n"
          ]
        }
      ]
    },
    {
      "cell_type": "code",
      "source": [
        "# now comparing and displaying the results\n",
        "print(\"Comparison of Model Performance:\")\n",
        "print(\"TSFEL Features:\")\n",
        "for model_name, acc in results_tsfel.items():\n",
        "    print(f\"{model_name}: {acc:.4f}\")\n",
        "print(\"\\nProvided Features:\")\n",
        "for model_name, acc in results_provided.items():\n",
        "    print(f\"{model_name}: {acc:.4f}\")"
      ],
      "metadata": {
        "colab": {
          "base_uri": "https://localhost:8080/"
        },
        "id": "1jZffiMEkBs1",
        "outputId": "adafd90b-819c-4a0e-ba2f-6368cd1d7c82"
      },
      "execution_count": 13,
      "outputs": [
        {
          "output_type": "stream",
          "name": "stdout",
          "text": [
            "Comparison of Model Performance:\n",
            "TSFEL Features:\n",
            "Random Forest: 0.9308\n",
            "SVM: 0.9566\n",
            "Logistic Regression: 0.9562\n",
            "\n",
            "Provided Features:\n",
            "Random Forest: 0.9287\n",
            "SVM: 0.9549\n",
            "Logistic Regression: 0.9549\n"
          ]
        }
      ]
    },
    {
      "cell_type": "code",
      "source": [
        "# Visualization part:- Comparring  Bar Chart for Model Accuracies.\n",
        "# we have assumed that results_tsfel and results_provided are dictionaries with model names as keys and accuracies as values.\n",
        "model_names = list(results_tsfel.keys())\n",
        "tsfel_accuracies = [results_tsfel[m] for m in model_names]\n",
        "provided_accuracies = [results_provided[m] for m in model_names]\n",
        "x = range(len(model_names))\n",
        "plt.figure(figsize=(10, 6))\n",
        "plt.bar([i - 0.2 for i in x], tsfel_accuracies, width=0.4, label=\"TSFEL Features\")\n",
        "plt.bar([i + 0.2 for i in x], provided_accuracies, width=0.4, label=\"Provided Features\")\n",
        "plt.xticks(x, model_names)\n",
        "plt.xlabel(\"Model\")\n",
        "plt.ylabel(\"Accuracy\")\n",
        "plt.title(\"Comparison of Model Accuracies: TSFEL vs Provided Features\")\n",
        "plt.legend()\n",
        "plt.show()\n",
        "# now visualizing: Confusion Matrix for Random Forest (using Provided Features)\n",
        "from sklearn.ensemble import RandomForestClassifier\n",
        "# Fitting a Random Forest classifier on the provided features.\n",
        "rf_model = RandomForestClassifier(n_estimators=100, random_state=42)\n",
        "rf_model.fit(X_train_provided, train_labels)\n",
        "rf_preds = rf_model.predict(X_test_provided)\n",
        "# and at last Computing confusion matrix\n",
        "cm = confusion_matrix(test_labels, rf_preds)\n",
        "plt.figure(figsize=(8, 6))\n",
        "sns.heatmap(cm, annot=True, fmt='d', cmap='Blues')\n",
        "plt.xlabel(\"Predicted Label\")\n",
        "plt.ylabel(\"True Label\")\n",
        "plt.title(\"Confusion Matrix: Random Forest (Provided Features)\")\n",
        "plt.show()\n"
      ],
      "metadata": {
        "colab": {
          "base_uri": "https://localhost:8080/",
          "height": 1000
        },
        "id": "skcD1RBQpCRS",
        "outputId": "9ee19b96-7468-4f10-b571-f09343a99408"
      },
      "execution_count": 14,
      "outputs": [
        {
          "output_type": "display_data",
          "data": {
            "text/plain": [
              "<Figure size 1000x600 with 1 Axes>"
            ],
            "image/png": "[encoded data removed]"
          },
          "metadata": {}
        },
        {
          "output_type": "display_data",
          "data": {
            "text/plain": [
              "<Figure size 800x600 with 2 Axes>"
            ],
            "image/png": "[encoded data removed]"
          },
          "metadata": {}
        }
      ]
    },
    {
      "cell_type": "code",
      "source": [],
      "metadata": {
        "id": "D_RerGQfpoiJ"
      },
      "execution_count": null,
      "outputs": []
    }
  ]
}