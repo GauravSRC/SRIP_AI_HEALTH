{
  "nbformat": 4,
  "nbformat_minor": 0,
  "metadata": {
    "colab": {
      "provenance": [],
      "gpuType": "T4"
    },
    "kernelspec": {
      "name": "python3",
      "display_name": "Python 3"
    },
    "language_info": {
      "name": "python"
    },
    "accelerator": "GPU"
  },
  "cells": [
    {
      "cell_type": "code",
      "execution_count": 1,
      "metadata": {
        "colab": {
          "base_uri": "https://localhost:8080/"
        },
        "id": "oWhILV82G0gR",
        "outputId": "928cc4ae-eff8-4e8e-d7a2-4730eac31a3d"
      },
      "outputs": [
        {
          "output_type": "stream",
          "name": "stdout",
          "text": [
            "Unzipping complete! Files are extracted to: /content/data\n"
          ]
        }
      ],
      "source": [
        "import zipfile\n",
        "import os\n",
        "zip_path = \"/content/UCI_HAR_Dataset[1].zip\"\n",
        "extract_path = \"/content/data\"\n",
        "os.makedirs(extract_path, exist_ok=True)\n",
        "with zipfile.ZipFile(zip_path, 'r') as zip_ref:\n",
        "    zip_ref.extractall(extract_path)\n",
        "print(\"Unzipping complete! Files are extracted to:\", extract_path)\n"
      ]
    },
    {
      "cell_type": "code",
      "source": [
        "import numpy as np\n",
        "import pandas as pd\n",
        "import torch\n",
        "import torch.nn as nn\n",
        "import torch.optim as optim\n",
        "import torch.utils.data as data\n",
        "import matplotlib.pyplot as plt\n",
        "import seaborn as sns\n",
        "from sklearn.preprocessing import StandardScaler, LabelEncoder\n",
        "from sklearn.model_selection import train_test_split\n",
        "from sklearn.metrics import accuracy_score, confusion_matrix\n",
        "import os"
      ],
      "metadata": {
        "id": "Si4pE4lkIq0O"
      },
      "execution_count": 2,
      "outputs": []
    },
    {
      "cell_type": "code",
      "source": [
        "device = torch.device(\"cuda\" if torch.cuda.is_available() else \"cpu\")\n",
        "print(\"Using device:\", device)\n",
        "def load_signals(folder, dataset='train'):\n",
        "    signals = []\n",
        "    signal_files = [f\"total_acc_x_{dataset}.txt\", f\"total_acc_y_{dataset}.txt\", f\"total_acc_z_{dataset}.txt\",\n",
        "                    f\"body_acc_x_{dataset}.txt\", f\"body_acc_y_{dataset}.txt\", f\"body_acc_z_{dataset}.txt\",\n",
        "                    f\"body_gyro_x_{dataset}.txt\", f\"body_gyro_y_{dataset}.txt\", f\"body_gyro_z_{dataset}.txt\"]\n",
        "\n",
        "    for file in signal_files:\n",
        "        filepath = os.path.join(folder, \"Inertial Signals\", file)\n",
        "        signal = np.loadtxt(filepath).reshape(-1, 128, 1)\n",
        "        signals.append(signal)\n",
        "\n",
        "    return np.concatenate(signals, axis=-1)"
      ],
      "metadata": {
        "colab": {
          "base_uri": "https://localhost:8080/"
        },
        "id": "ZmIaACGpJBkS",
        "outputId": "34202d43-f541-4085-c9d6-bde3a902c838"
      },
      "execution_count": 3,
      "outputs": [
        {
          "output_type": "stream",
          "name": "stdout",
          "text": [
            "Using device: cuda\n"
          ]
        }
      ]
    },
    {
      "cell_type": "code",
      "source": [
        "def load_labels(filepath):\n",
        "    return np.loadtxt(filepath, dtype=int).reshape(-1, 1)\n",
        "train_folder = \"/content/data/UCI HAR Dataset/train\"\n",
        "test_folder = \"/content/data/UCI HAR Dataset/test\""
      ],
      "metadata": {
        "id": "ZuWHbECKJcmk"
      },
      "execution_count": 4,
      "outputs": []
    },
    {
      "cell_type": "code",
      "source": [
        "train_signals = load_signals(train_folder, dataset='train')\n",
        "test_signals = load_signals(test_folder, dataset='test')\n",
        "train_labels = load_labels(os.path.join(train_folder, \"y_train.txt\"))\n",
        "test_labels = load_labels(os.path.join(test_folder, \"y_test.txt\"))\n",
        "scaler = StandardScaler()\n",
        "train_signals = scaler.fit_transform(train_signals.reshape(-1, 9)).reshape(-1, 128, 9)\n",
        "test_signals = scaler.transform(test_signals.reshape(-1, 9)).reshape(-1, 128, 9)"
      ],
      "metadata": {
        "id": "X0hs8UnjLs7L"
      },
      "execution_count": 5,
      "outputs": []
    },
    {
      "cell_type": "code",
      "source": [
        "encoder = LabelEncoder()\n",
        "train_labels = encoder.fit_transform(train_labels.ravel())\n",
        "test_labels = encoder.transform(test_labels.ravel())\n",
        "X_train_tensor = torch.tensor(train_signals, dtype=torch.float32).to(device)\n",
        "X_test_tensor = torch.tensor(test_signals, dtype=torch.float32).to(device)\n",
        "y_train_tensor = torch.tensor(train_labels, dtype=torch.long).to(device)\n",
        "y_test_tensor = torch.tensor(test_labels, dtype=torch.long).to(device)"
      ],
      "metadata": {
        "id": "yBu5NYCKLxVd"
      },
      "execution_count": 6,
      "outputs": []
    },
    {
      "cell_type": "code",
      "source": [
        "def create_dataloader(X, y, batch_size=32, shuffle=True):\n",
        "    dataset = data.TensorDataset(X, y)\n",
        "    return data.DataLoader(dataset, batch_size=batch_size, shuffle=shuffle)\n",
        "train_loader = create_dataloader(X_train_tensor, y_train_tensor)\n",
        "test_loader = create_dataloader(X_test_tensor, y_test_tensor, shuffle=False)"
      ],
      "metadata": {
        "id": "YzYrSHk7L46_"
      },
      "execution_count": 7,
      "outputs": []
    },
    {
      "cell_type": "code",
      "source": [
        "#  creating LSTM Model\n",
        "class LSTMModel(nn.Module):\n",
        "    def __init__(self, input_dim=9, hidden_dim=64, num_layers=2, num_classes=6):\n",
        "        super(LSTMModel, self).__init__()\n",
        "        self.lstm = nn.LSTM(input_dim, hidden_dim, num_layers, batch_first=True)\n",
        "        self.fc = nn.Linear(hidden_dim, num_classes)\n",
        "\n",
        "    def forward(self, x):\n",
        "        lstm_out, _ = self.lstm(x)\n",
        "        out = self.fc(lstm_out[:, -1, :])\n",
        "        return out"
      ],
      "metadata": {
        "id": "kGFsiawRL7JS"
      },
      "execution_count": 8,
      "outputs": []
    },
    {
      "cell_type": "code",
      "source": [
        "# creating 1D CNN Model\n",
        "class CNN1DModel(nn.Module):\n",
        "    def __init__(self, input_dim=9, num_classes=6):\n",
        "        super(CNN1DModel, self).__init__()\n",
        "        self.conv1 = nn.Conv1d(in_channels=input_dim, out_channels=32, kernel_size=3, stride=1, padding=1)\n",
        "        self.conv2 = nn.Conv1d(32, 64, 3, stride=1, padding=1)\n",
        "        self.pool = nn.MaxPool1d(2)\n",
        "        self.fc = nn.Linear(64 * 32, num_classes)\n",
        "\n",
        "    def forward(self, x):\n",
        "        x = x.permute(0, 2, 1)\n",
        "        x = self.pool(torch.relu(self.conv1(x)))\n",
        "        x = self.pool(torch.relu(self.conv2(x)))\n",
        "        x = x.view(x.shape[0], -1)\n",
        "        return self.fc(x)"
      ],
      "metadata": {
        "id": "ssVzpvrXL-g3"
      },
      "execution_count": 9,
      "outputs": []
    },
    {
      "cell_type": "code",
      "source": [
        "def train_model(model, train_loader, test_loader, epochs=200, lr=0.001):\n",
        "    model = model.to(device)\n",
        "    criterion = nn.CrossEntropyLoss()\n",
        "    optimizer = optim.Adam(model.parameters(), lr=lr)\n",
        "\n",
        "    for epoch in range(epochs):\n",
        "        model.train()\n",
        "        total_loss = 0\n",
        "        for X_batch, y_batch in train_loader:\n",
        "            optimizer.zero_grad()\n",
        "            outputs = model(X_batch)\n",
        "            loss = criterion(outputs, y_batch)\n",
        "            loss.backward()\n",
        "            optimizer.step()\n",
        "            total_loss += loss.item()\n",
        "\n",
        "        print(f\"Epoch {epoch+1}, Loss: {total_loss/len(train_loader):.4f}\")\n",
        "\n",
        "    return model"
      ],
      "metadata": {
        "id": "0sDRX5PCMBI5"
      },
      "execution_count": 10,
      "outputs": []
    },
    {
      "cell_type": "code",
      "source": [
        "lstm_model = LSTMModel()\n",
        "lstm_model = train_model(lstm_model, train_loader, test_loader)"
      ],
      "metadata": {
        "colab": {
          "base_uri": "https://localhost:8080/"
        },
        "id": "GpTIP1MwME4E",
        "outputId": "b017ae67-bc50-41ab-bf71-5f0664ebbf8f"
      },
      "execution_count": 11,
      "outputs": [
        {
          "output_type": "stream",
          "name": "stdout",
          "text": [
            "Epoch 1, Loss: 0.9442\n",
            "Epoch 2, Loss: 0.5148\n",
            "Epoch 3, Loss: 0.3948\n",
            "Epoch 4, Loss: 0.2988\n",
            "Epoch 5, Loss: 0.2146\n",
            "Epoch 6, Loss: 0.1595\n",
            "Epoch 7, Loss: 0.1261\n",
            "Epoch 8, Loss: 0.1244\n",
            "Epoch 9, Loss: 0.1166\n",
            "Epoch 10, Loss: 0.1857\n",
            "Epoch 11, Loss: 0.1917\n",
            "Epoch 12, Loss: 0.1203\n",
            "Epoch 13, Loss: 0.1124\n",
            "Epoch 14, Loss: 0.1291\n",
            "Epoch 15, Loss: 0.1192\n",
            "Epoch 16, Loss: 0.1320\n",
            "Epoch 17, Loss: 0.1123\n",
            "Epoch 18, Loss: 0.1096\n",
            "Epoch 19, Loss: 0.1105\n",
            "Epoch 20, Loss: 0.1037\n",
            "Epoch 21, Loss: 0.1023\n",
            "Epoch 22, Loss: 0.1113\n",
            "Epoch 23, Loss: 0.1034\n",
            "Epoch 24, Loss: 0.1180\n",
            "Epoch 25, Loss: 0.1083\n",
            "Epoch 26, Loss: 0.1274\n",
            "Epoch 27, Loss: 0.1223\n",
            "Epoch 28, Loss: 0.1080\n",
            "Epoch 29, Loss: 0.2083\n",
            "Epoch 30, Loss: 0.1399\n",
            "Epoch 31, Loss: 0.1155\n",
            "Epoch 32, Loss: 0.1091\n",
            "Epoch 33, Loss: 0.1041\n",
            "Epoch 34, Loss: 0.1129\n",
            "Epoch 35, Loss: 0.1245\n",
            "Epoch 36, Loss: 0.1059\n",
            "Epoch 37, Loss: 0.0985\n",
            "Epoch 38, Loss: 0.0992\n",
            "Epoch 39, Loss: 0.0965\n",
            "Epoch 40, Loss: 0.1007\n",
            "Epoch 41, Loss: 0.0981\n",
            "Epoch 42, Loss: 0.0993\n",
            "Epoch 43, Loss: 0.0957\n",
            "Epoch 44, Loss: 0.0987\n",
            "Epoch 45, Loss: 0.0960\n",
            "Epoch 46, Loss: 0.1339\n",
            "Epoch 47, Loss: 0.1096\n",
            "Epoch 48, Loss: 0.0941\n",
            "Epoch 49, Loss: 0.1012\n",
            "Epoch 50, Loss: 0.0925\n",
            "Epoch 51, Loss: 0.0948\n",
            "Epoch 52, Loss: 0.0980\n",
            "Epoch 53, Loss: 0.0991\n",
            "Epoch 54, Loss: 0.1080\n",
            "Epoch 55, Loss: 0.0973\n",
            "Epoch 56, Loss: 0.1018\n",
            "Epoch 57, Loss: 0.0974\n",
            "Epoch 58, Loss: 0.0923\n",
            "Epoch 59, Loss: 0.0930\n",
            "Epoch 60, Loss: 0.0920\n",
            "Epoch 61, Loss: 0.0917\n",
            "Epoch 62, Loss: 0.0896\n",
            "Epoch 63, Loss: 0.0920\n",
            "Epoch 64, Loss: 0.0950\n",
            "Epoch 65, Loss: 0.1007\n",
            "Epoch 66, Loss: 0.1007\n",
            "Epoch 67, Loss: 0.1166\n",
            "Epoch 68, Loss: 0.1031\n",
            "Epoch 69, Loss: 0.1095\n",
            "Epoch 70, Loss: 0.1060\n",
            "Epoch 71, Loss: 0.0949\n",
            "Epoch 72, Loss: 0.0926\n",
            "Epoch 73, Loss: 0.0935\n",
            "Epoch 74, Loss: 0.0912\n",
            "Epoch 75, Loss: 0.0897\n",
            "Epoch 76, Loss: 0.1185\n",
            "Epoch 77, Loss: 0.0946\n",
            "Epoch 78, Loss: 0.0921\n",
            "Epoch 79, Loss: 0.0910\n",
            "Epoch 80, Loss: 0.0880\n",
            "Epoch 81, Loss: 0.0834\n",
            "Epoch 82, Loss: 0.0828\n",
            "Epoch 83, Loss: 0.0859\n",
            "Epoch 84, Loss: 0.0850\n",
            "Epoch 85, Loss: 0.0838\n",
            "Epoch 86, Loss: 0.1001\n",
            "Epoch 87, Loss: 0.0969\n",
            "Epoch 88, Loss: 0.0895\n",
            "Epoch 89, Loss: 0.0902\n",
            "Epoch 90, Loss: 0.0865\n",
            "Epoch 91, Loss: 0.0839\n",
            "Epoch 92, Loss: 0.0836\n",
            "Epoch 93, Loss: 0.0812\n",
            "Epoch 94, Loss: 0.0986\n",
            "Epoch 95, Loss: 0.0838\n",
            "Epoch 96, Loss: 0.0806\n",
            "Epoch 97, Loss: 0.1040\n",
            "Epoch 98, Loss: 0.0784\n",
            "Epoch 99, Loss: 0.0741\n",
            "Epoch 100, Loss: 0.0867\n",
            "Epoch 101, Loss: 0.0881\n",
            "Epoch 102, Loss: 0.1039\n",
            "Epoch 103, Loss: 0.1114\n",
            "Epoch 104, Loss: 0.0895\n",
            "Epoch 105, Loss: 0.0849\n",
            "Epoch 106, Loss: 0.0957\n",
            "Epoch 107, Loss: 0.1085\n",
            "Epoch 108, Loss: 0.1038\n",
            "Epoch 109, Loss: 0.0946\n",
            "Epoch 110, Loss: 0.0911\n",
            "Epoch 111, Loss: 0.0951\n",
            "Epoch 112, Loss: 0.0914\n",
            "Epoch 113, Loss: 0.0890\n",
            "Epoch 114, Loss: 0.0961\n",
            "Epoch 115, Loss: 0.0853\n",
            "Epoch 116, Loss: 0.1019\n",
            "Epoch 117, Loss: 0.1012\n",
            "Epoch 118, Loss: 0.0848\n",
            "Epoch 119, Loss: 0.0745\n",
            "Epoch 120, Loss: 0.0762\n",
            "Epoch 121, Loss: 0.0892\n",
            "Epoch 122, Loss: 0.0838\n",
            "Epoch 123, Loss: 0.0808\n",
            "Epoch 124, Loss: 0.0787\n",
            "Epoch 125, Loss: 0.0743\n",
            "Epoch 126, Loss: 0.0781\n",
            "Epoch 127, Loss: 0.0763\n",
            "Epoch 128, Loss: 0.0770\n",
            "Epoch 129, Loss: 0.0727\n",
            "Epoch 130, Loss: 0.0761\n",
            "Epoch 131, Loss: 0.0710\n",
            "Epoch 132, Loss: 0.0732\n",
            "Epoch 133, Loss: 0.0711\n",
            "Epoch 134, Loss: 0.0803\n",
            "Epoch 135, Loss: 0.0748\n",
            "Epoch 136, Loss: 0.0737\n",
            "Epoch 137, Loss: 0.0876\n",
            "Epoch 138, Loss: 0.0799\n",
            "Epoch 139, Loss: 0.0741\n",
            "Epoch 140, Loss: 0.0694\n",
            "Epoch 141, Loss: 0.0688\n",
            "Epoch 142, Loss: 0.0743\n",
            "Epoch 143, Loss: 0.0742\n",
            "Epoch 144, Loss: 0.0702\n",
            "Epoch 145, Loss: 0.0769\n",
            "Epoch 146, Loss: 0.0694\n",
            "Epoch 147, Loss: 0.0686\n",
            "Epoch 148, Loss: 0.0567\n",
            "Epoch 149, Loss: 0.0733\n",
            "Epoch 150, Loss: 0.0702\n",
            "Epoch 151, Loss: 0.0861\n",
            "Epoch 152, Loss: 0.1047\n",
            "Epoch 153, Loss: 0.0989\n",
            "Epoch 154, Loss: 0.0883\n",
            "Epoch 155, Loss: 0.0834\n",
            "Epoch 156, Loss: 0.0775\n",
            "Epoch 157, Loss: 0.0681\n",
            "Epoch 158, Loss: 0.0712\n",
            "Epoch 159, Loss: 0.0678\n",
            "Epoch 160, Loss: 0.0591\n",
            "Epoch 161, Loss: 0.0777\n",
            "Epoch 162, Loss: 0.0741\n",
            "Epoch 163, Loss: 0.0653\n",
            "Epoch 164, Loss: 0.0576\n",
            "Epoch 165, Loss: 0.0574\n",
            "Epoch 166, Loss: 0.0593\n",
            "Epoch 167, Loss: 0.0591\n",
            "Epoch 168, Loss: 0.0559\n",
            "Epoch 169, Loss: 0.0520\n",
            "Epoch 170, Loss: 0.0472\n",
            "Epoch 171, Loss: 0.0489\n",
            "Epoch 172, Loss: 0.0468\n",
            "Epoch 173, Loss: 0.0443\n",
            "Epoch 174, Loss: 0.0483\n",
            "Epoch 175, Loss: 0.0394\n",
            "Epoch 176, Loss: 0.0406\n",
            "Epoch 177, Loss: 0.0414\n",
            "Epoch 178, Loss: 0.0574\n",
            "Epoch 179, Loss: 0.0423\n",
            "Epoch 180, Loss: 0.0416\n",
            "Epoch 181, Loss: 0.0471\n",
            "Epoch 182, Loss: 0.0371\n",
            "Epoch 183, Loss: 0.0519\n",
            "Epoch 184, Loss: 0.0444\n",
            "Epoch 185, Loss: 0.0704\n",
            "Epoch 186, Loss: 0.0585\n",
            "Epoch 187, Loss: 0.0468\n",
            "Epoch 188, Loss: 0.0539\n",
            "Epoch 189, Loss: 0.0512\n",
            "Epoch 190, Loss: 0.0412\n",
            "Epoch 191, Loss: 0.0409\n",
            "Epoch 192, Loss: 0.0484\n",
            "Epoch 193, Loss: 0.0450\n",
            "Epoch 194, Loss: 0.0393\n",
            "Epoch 195, Loss: 0.0541\n",
            "Epoch 196, Loss: 0.0622\n",
            "Epoch 197, Loss: 0.0452\n",
            "Epoch 198, Loss: 0.0438\n",
            "Epoch 199, Loss: 0.0358\n",
            "Epoch 200, Loss: 0.0499\n"
          ]
        }
      ]
    },
    {
      "cell_type": "code",
      "source": [
        "cnn_model = CNN1DModel()\n",
        "cnn_model = train_model(cnn_model, train_loader, test_loader)"
      ],
      "metadata": {
        "colab": {
          "base_uri": "https://localhost:8080/"
        },
        "id": "tJH_DjlTMG-G",
        "outputId": "f1074492-f6bc-45f7-8f73-33b940eb93bf"
      },
      "execution_count": 12,
      "outputs": [
        {
          "output_type": "stream",
          "name": "stdout",
          "text": [
            "Epoch 1, Loss: 0.4008\n",
            "Epoch 2, Loss: 0.1236\n",
            "Epoch 3, Loss: 0.1073\n",
            "Epoch 4, Loss: 0.1011\n",
            "Epoch 5, Loss: 0.0899\n",
            "Epoch 6, Loss: 0.0837\n",
            "Epoch 7, Loss: 0.0732\n",
            "Epoch 8, Loss: 0.0688\n",
            "Epoch 9, Loss: 0.0662\n",
            "Epoch 10, Loss: 0.0611\n",
            "Epoch 11, Loss: 0.0755\n",
            "Epoch 12, Loss: 0.0578\n",
            "Epoch 13, Loss: 0.0520\n",
            "Epoch 14, Loss: 0.0516\n",
            "Epoch 15, Loss: 0.0452\n",
            "Epoch 16, Loss: 0.0434\n",
            "Epoch 17, Loss: 0.0448\n",
            "Epoch 18, Loss: 0.0871\n",
            "Epoch 19, Loss: 0.0434\n",
            "Epoch 20, Loss: 0.0367\n",
            "Epoch 21, Loss: 0.0361\n",
            "Epoch 22, Loss: 0.0317\n",
            "Epoch 23, Loss: 0.0317\n",
            "Epoch 24, Loss: 0.0321\n",
            "Epoch 25, Loss: 0.0404\n",
            "Epoch 26, Loss: 0.0314\n",
            "Epoch 27, Loss: 0.0260\n",
            "Epoch 28, Loss: 0.0258\n",
            "Epoch 29, Loss: 0.0234\n",
            "Epoch 30, Loss: 0.0219\n",
            "Epoch 31, Loss: 0.0341\n",
            "Epoch 32, Loss: 0.0287\n",
            "Epoch 33, Loss: 0.0248\n",
            "Epoch 34, Loss: 0.0182\n",
            "Epoch 35, Loss: 0.0187\n",
            "Epoch 36, Loss: 0.0158\n",
            "Epoch 37, Loss: 0.0220\n",
            "Epoch 38, Loss: 0.0327\n",
            "Epoch 39, Loss: 0.0166\n",
            "Epoch 40, Loss: 0.0145\n",
            "Epoch 41, Loss: 0.0161\n",
            "Epoch 42, Loss: 0.0157\n",
            "Epoch 43, Loss: 0.0209\n",
            "Epoch 44, Loss: 0.0215\n",
            "Epoch 45, Loss: 0.0117\n",
            "Epoch 46, Loss: 0.0111\n",
            "Epoch 47, Loss: 0.0100\n",
            "Epoch 48, Loss: 0.0089\n",
            "Epoch 49, Loss: 0.0080\n",
            "Epoch 50, Loss: 0.0186\n",
            "Epoch 51, Loss: 0.0071\n",
            "Epoch 52, Loss: 0.0069\n",
            "Epoch 53, Loss: 0.0080\n",
            "Epoch 54, Loss: 0.0431\n",
            "Epoch 55, Loss: 0.0323\n",
            "Epoch 56, Loss: 0.0154\n",
            "Epoch 57, Loss: 0.0067\n",
            "Epoch 58, Loss: 0.0052\n",
            "Epoch 59, Loss: 0.0045\n",
            "Epoch 60, Loss: 0.0049\n",
            "Epoch 61, Loss: 0.0055\n",
            "Epoch 62, Loss: 0.0054\n",
            "Epoch 63, Loss: 0.0085\n",
            "Epoch 64, Loss: 0.0055\n",
            "Epoch 65, Loss: 0.0031\n",
            "Epoch 66, Loss: 0.0037\n",
            "Epoch 67, Loss: 0.0020\n",
            "Epoch 68, Loss: 0.0044\n",
            "Epoch 69, Loss: 0.0308\n",
            "Epoch 70, Loss: 0.0204\n",
            "Epoch 71, Loss: 0.0111\n",
            "Epoch 72, Loss: 0.0030\n",
            "Epoch 73, Loss: 0.0031\n",
            "Epoch 74, Loss: 0.0025\n",
            "Epoch 75, Loss: 0.0019\n",
            "Epoch 76, Loss: 0.0025\n",
            "Epoch 77, Loss: 0.0079\n",
            "Epoch 78, Loss: 0.0016\n",
            "Epoch 79, Loss: 0.0018\n",
            "Epoch 80, Loss: 0.0052\n",
            "Epoch 81, Loss: 0.0106\n",
            "Epoch 82, Loss: 0.0080\n",
            "Epoch 83, Loss: 0.0130\n",
            "Epoch 84, Loss: 0.0355\n",
            "Epoch 85, Loss: 0.0101\n",
            "Epoch 86, Loss: 0.0027\n",
            "Epoch 87, Loss: 0.0013\n",
            "Epoch 88, Loss: 0.0011\n",
            "Epoch 89, Loss: 0.0011\n",
            "Epoch 90, Loss: 0.0010\n",
            "Epoch 91, Loss: 0.0008\n",
            "Epoch 92, Loss: 0.0007\n",
            "Epoch 93, Loss: 0.0006\n",
            "Epoch 94, Loss: 0.0018\n",
            "Epoch 95, Loss: 0.0084\n",
            "Epoch 96, Loss: 0.0103\n",
            "Epoch 97, Loss: 0.0041\n",
            "Epoch 98, Loss: 0.0007\n",
            "Epoch 99, Loss: 0.0006\n",
            "Epoch 100, Loss: 0.0005\n",
            "Epoch 101, Loss: 0.0005\n",
            "Epoch 102, Loss: 0.0004\n",
            "Epoch 103, Loss: 0.0004\n",
            "Epoch 104, Loss: 0.0169\n",
            "Epoch 105, Loss: 0.0282\n",
            "Epoch 106, Loss: 0.0139\n",
            "Epoch 107, Loss: 0.0194\n",
            "Epoch 108, Loss: 0.0203\n",
            "Epoch 109, Loss: 0.0013\n",
            "Epoch 110, Loss: 0.0008\n",
            "Epoch 111, Loss: 0.0007\n",
            "Epoch 112, Loss: 0.0006\n",
            "Epoch 113, Loss: 0.0005\n",
            "Epoch 114, Loss: 0.0005\n",
            "Epoch 115, Loss: 0.0005\n",
            "Epoch 116, Loss: 0.0004\n",
            "Epoch 117, Loss: 0.0006\n",
            "Epoch 118, Loss: 0.0004\n",
            "Epoch 119, Loss: 0.0003\n",
            "Epoch 120, Loss: 0.0004\n",
            "Epoch 121, Loss: 0.0172\n",
            "Epoch 122, Loss: 0.0105\n",
            "Epoch 123, Loss: 0.0188\n",
            "Epoch 124, Loss: 0.0049\n",
            "Epoch 125, Loss: 0.0018\n",
            "Epoch 126, Loss: 0.0005\n",
            "Epoch 127, Loss: 0.0004\n",
            "Epoch 128, Loss: 0.0004\n",
            "Epoch 129, Loss: 0.0003\n",
            "Epoch 130, Loss: 0.0003\n",
            "Epoch 131, Loss: 0.0003\n",
            "Epoch 132, Loss: 0.0002\n",
            "Epoch 133, Loss: 0.0002\n",
            "Epoch 134, Loss: 0.0002\n",
            "Epoch 135, Loss: 0.0002\n",
            "Epoch 136, Loss: 0.0002\n",
            "Epoch 137, Loss: 0.0002\n",
            "Epoch 138, Loss: 0.0013\n",
            "Epoch 139, Loss: 0.0284\n",
            "Epoch 140, Loss: 0.0145\n",
            "Epoch 141, Loss: 0.0019\n",
            "Epoch 142, Loss: 0.0007\n",
            "Epoch 143, Loss: 0.0004\n",
            "Epoch 144, Loss: 0.0004\n",
            "Epoch 145, Loss: 0.0003\n",
            "Epoch 146, Loss: 0.0003\n",
            "Epoch 147, Loss: 0.0003\n",
            "Epoch 148, Loss: 0.0003\n",
            "Epoch 149, Loss: 0.0002\n",
            "Epoch 150, Loss: 0.0002\n",
            "Epoch 151, Loss: 0.0002\n",
            "Epoch 152, Loss: 0.0081\n",
            "Epoch 153, Loss: 0.0374\n",
            "Epoch 154, Loss: 0.0062\n",
            "Epoch 155, Loss: 0.0006\n",
            "Epoch 156, Loss: 0.0003\n",
            "Epoch 157, Loss: 0.0003\n",
            "Epoch 158, Loss: 0.0002\n",
            "Epoch 159, Loss: 0.0002\n",
            "Epoch 160, Loss: 0.0002\n",
            "Epoch 161, Loss: 0.0002\n",
            "Epoch 162, Loss: 0.0001\n",
            "Epoch 163, Loss: 0.0001\n",
            "Epoch 164, Loss: 0.0001\n",
            "Epoch 165, Loss: 0.0001\n",
            "Epoch 166, Loss: 0.0001\n",
            "Epoch 167, Loss: 0.0001\n",
            "Epoch 168, Loss: 0.0001\n",
            "Epoch 169, Loss: 0.0001\n",
            "Epoch 170, Loss: 0.0001\n",
            "Epoch 171, Loss: 0.0001\n",
            "Epoch 172, Loss: 0.0001\n",
            "Epoch 173, Loss: 0.0001\n",
            "Epoch 174, Loss: 0.0001\n",
            "Epoch 175, Loss: 0.0708\n",
            "Epoch 176, Loss: 0.0085\n",
            "Epoch 177, Loss: 0.0025\n",
            "Epoch 178, Loss: 0.0035\n",
            "Epoch 179, Loss: 0.0004\n",
            "Epoch 180, Loss: 0.0003\n",
            "Epoch 181, Loss: 0.0003\n",
            "Epoch 182, Loss: 0.0003\n",
            "Epoch 183, Loss: 0.0002\n",
            "Epoch 184, Loss: 0.0002\n",
            "Epoch 185, Loss: 0.0002\n",
            "Epoch 186, Loss: 0.0002\n",
            "Epoch 187, Loss: 0.0001\n",
            "Epoch 188, Loss: 0.0001\n",
            "Epoch 189, Loss: 0.0001\n",
            "Epoch 190, Loss: 0.0001\n",
            "Epoch 191, Loss: 0.0001\n",
            "Epoch 192, Loss: 0.0001\n",
            "Epoch 193, Loss: 0.0001\n",
            "Epoch 194, Loss: 0.0001\n",
            "Epoch 195, Loss: 0.0001\n",
            "Epoch 196, Loss: 0.0001\n",
            "Epoch 197, Loss: 0.0001\n",
            "Epoch 198, Loss: 0.0001\n",
            "Epoch 199, Loss: 0.0001\n",
            "Epoch 200, Loss: 0.0001\n"
          ]
        }
      ]
    },
    {
      "cell_type": "code",
      "source": [
        "# defining evaluating function.\n",
        "def evaluate_model(model, test_loader):\n",
        "    model.eval()\n",
        "    predictions, true_labels = [], []\n",
        "    with torch.no_grad():\n",
        "        for X_batch, y_batch in test_loader:\n",
        "            outputs = model(X_batch)\n",
        "            _, preds = torch.max(outputs, 1)\n",
        "            predictions.extend(preds.cpu().numpy())\n",
        "            true_labels.extend(y_batch.cpu().numpy())\n",
        "\n",
        "    acc = accuracy_score(true_labels, predictions)\n",
        "    print(f\"Accuracy: {acc:.4f}\")\n",
        "\n",
        "    cm = confusion_matrix(true_labels, predictions)\n",
        "    sns.heatmap(cm, annot=True, fmt='d')\n",
        "    plt.show()"
      ],
      "metadata": {
        "id": "SBplOwKLMNm_"
      },
      "execution_count": 13,
      "outputs": []
    },
    {
      "cell_type": "code",
      "source": [
        "# Evaluating both models\n",
        "evaluate_model(lstm_model, test_loader)\n",
        "evaluate_model(cnn_model, test_loader)"
      ],
      "metadata": {
        "colab": {
          "base_uri": "https://localhost:8080/",
          "height": 878
        },
        "id": "jRInYUYzMT1a",
        "outputId": "bb2a6db6-e01b-46a6-e834-a14b9f5a8e51"
      },
      "execution_count": 14,
      "outputs": [
        {
          "output_type": "stream",
          "name": "stdout",
          "text": [
            "Accuracy: 0.9145\n"
          ]
        },
        {
          "output_type": "display_data",
          "data": {
            "text/plain": [
              "<Figure size 640x480 with 2 Axes>"
            ],
            "image/png": "[encoded data removed]"
          },
          "metadata": {}
        },
        {
          "output_type": "stream",
          "name": "stdout",
          "text": [
            "Accuracy: 0.9213\n"
          ]
        },
        {
          "output_type": "display_data",
          "data": {
            "text/plain": [
              "<Figure size 640x480 with 2 Axes>"
            ],
            "image/png": "[encoded data removed]"
          },
          "metadata": {}
        }
      ]
    },
    {
      "cell_type": "code",
      "source": [],
      "metadata": {
        "id": "FRCWrlltMTyA"
      },
      "execution_count": null,
      "outputs": []
    }
  ]
}